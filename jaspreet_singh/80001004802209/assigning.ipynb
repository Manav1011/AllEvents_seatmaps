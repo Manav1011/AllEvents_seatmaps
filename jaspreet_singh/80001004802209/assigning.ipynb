{
 "cells": [
  {
   "cell_type": "code",
   "execution_count": 1,
   "metadata": {},
   "outputs": [],
   "source": [
    "import pandas as pd\n",
    "import numpy as np"
   ]
  },
  {
   "cell_type": "code",
   "execution_count": 8,
   "metadata": {},
   "outputs": [
    {
     "data": {
      "text/html": [
       "<div>\n",
       "<style scoped>\n",
       "    .dataframe tbody tr th:only-of-type {\n",
       "        vertical-align: middle;\n",
       "    }\n",
       "\n",
       "    .dataframe tbody tr th {\n",
       "        vertical-align: top;\n",
       "    }\n",
       "\n",
       "    .dataframe thead th {\n",
       "        text-align: right;\n",
       "    }\n",
       "</style>\n",
       "<table border=\"1\" class=\"dataframe\">\n",
       "  <thead>\n",
       "    <tr style=\"text-align: right;\">\n",
       "      <th></th>\n",
       "      <th>Booking ID</th>\n",
       "      <th>Name</th>\n",
       "      <th>Email</th>\n",
       "      <th>Phone</th>\n",
       "      <th>Ticket Type</th>\n",
       "      <th>Slot path</th>\n",
       "      <th>Category</th>\n",
       "      <th>Seat</th>\n",
       "      <th>Transaction ID</th>\n",
       "      <th>Payment ID</th>\n",
       "      <th>Booked On</th>\n",
       "      <th>Coupon Code</th>\n",
       "      <th>Checked In</th>\n",
       "      <th>Check-In Time</th>\n",
       "      <th>UTM Source</th>\n",
       "      <th>UTM Medium</th>\n",
       "      <th>UTM Campaign</th>\n",
       "      <th>Online Payment</th>\n",
       "      <th>Receiver Email</th>\n",
       "    </tr>\n",
       "  </thead>\n",
       "  <tbody>\n",
       "    <tr>\n",
       "      <th>0</th>\n",
       "      <td>7656337</td>\n",
       "      <td>Amanpreet Makkar</td>\n",
       "      <td>aman.makkar@hotmail.com</td>\n",
       "      <td>16047257240</td>\n",
       "      <td>D - H</td>\n",
       "      <td>--</td>\n",
       "      <td>--</td>\n",
       "      <td>G12</td>\n",
       "      <td>txn_3NnZNfINIsMupYXC1PReASb5</td>\n",
       "      <td>450895</td>\n",
       "      <td>2023-09-07 03:59:28</td>\n",
       "      <td>--</td>\n",
       "      <td>No</td>\n",
       "      <td>--</td>\n",
       "      <td>google</td>\n",
       "      <td>organic</td>\n",
       "      <td>(organic)</td>\n",
       "      <td>Yes</td>\n",
       "      <td>ekakevents@gmail.com</td>\n",
       "    </tr>\n",
       "  </tbody>\n",
       "</table>\n",
       "</div>"
      ],
      "text/plain": [
       "   Booking ID              Name                    Email        Phone  \\\n",
       "0     7656337  Amanpreet Makkar  aman.makkar@hotmail.com  16047257240   \n",
       "\n",
       "  Ticket Type Slot path Category Seat                Transaction ID  \\\n",
       "0       D - H        --       --  G12  txn_3NnZNfINIsMupYXC1PReASb5   \n",
       "\n",
       "   Payment ID            Booked On Coupon Code Checked In Check-In Time  \\\n",
       "0      450895  2023-09-07 03:59:28          --         No            --   \n",
       "\n",
       "  UTM Source UTM Medium UTM Campaign Online Payment        Receiver Email  \n",
       "0     google    organic    (organic)            Yes  ekakevents@gmail.com  "
      ]
     },
     "execution_count": 8,
     "metadata": {},
     "output_type": "execute_result"
    }
   ],
   "source": [
    "df = pd.read_excel('/home/manav1011/Downloads/with-love-jaspreet-canada-tour-2023-by-jaspreet-singh-vancouver-confirmed.xlsx')\n",
    "df.head(1)"
   ]
  }
 ],
 "metadata": {
  "kernelspec": {
   "display_name": ".globalenv",
   "language": "python",
   "name": "python3"
  },
  "language_info": {
   "codemirror_mode": {
    "name": "ipython",
    "version": 3
   },
   "file_extension": ".py",
   "mimetype": "text/x-python",
   "name": "python",
   "nbconvert_exporter": "python",
   "pygments_lexer": "ipython3",
   "version": "3.10.12"
  },
  "orig_nbformat": 4
 },
 "nbformat": 4,
 "nbformat_minor": 2
}
