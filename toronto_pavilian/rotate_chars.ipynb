{
 "cells": [
  {
   "cell_type": "code",
   "execution_count": 1,
   "metadata": {},
   "outputs": [
    {
     "ename": "ModuleNotFoundError",
     "evalue": "No module named 'flipText'",
     "output_type": "error",
     "traceback": [
      "\u001b[0;31m---------------------------------------------------------------------------\u001b[0m",
      "\u001b[0;31mModuleNotFoundError\u001b[0m                       Traceback (most recent call last)",
      "Cell \u001b[0;32mIn[1], line 1\u001b[0m\n\u001b[0;32m----> 1\u001b[0m \u001b[39mfrom\u001b[39;00m \u001b[39mflipText\u001b[39;00m \u001b[39mimport\u001b[39;00m flip\n\u001b[1;32m      3\u001b[0m text \u001b[39m=\u001b[39m \u001b[39m'\u001b[39m\u001b[39mABCDEFGHIJKLMNOPQRSTUVWXYZ12345678910\u001b[39m\u001b[39m'\u001b[39m\n\u001b[1;32m      4\u001b[0m flipped_text \u001b[39m=\u001b[39m flip(text)\n",
      "\u001b[0;31mModuleNotFoundError\u001b[0m: No module named 'flipText'"
     ]
    }
   ],
   "source": [
    "from flipText import flip\n",
    "\n",
    "text = 'ABCDEFGHIJKLMNOPQRSTUVWXYZ12345678910'\n",
    "flipped_text = flip(text)\n",
    "print(flipped_text)"
   ]
  }
 ],
 "metadata": {
  "kernelspec": {
   "display_name": ".globalenv",
   "language": "python",
   "name": "python3"
  },
  "language_info": {
   "codemirror_mode": {
    "name": "ipython",
    "version": 3
   },
   "file_extension": ".py",
   "mimetype": "text/x-python",
   "name": "python",
   "nbconvert_exporter": "python",
   "pygments_lexer": "ipython3",
   "version": "3.11.2"
  },
  "orig_nbformat": 4
 },
 "nbformat": 4,
 "nbformat_minor": 2
}
