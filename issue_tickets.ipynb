{
 "cells": [
  {
   "attachments": {},
   "cell_type": "markdown",
   "metadata": {},
   "source": [
    "https://allevents.in/api/index.php/tickets/ae/reserve_tickets\n",
    "\n",
    "{\n",
    "  \"event_id\": \"80003470188091\",\n",
    "  \"payment_mode\": \"cash\",\n",
    "  \"registrations\": [\n",
    "    {\n",
    "      \"ticket_type_id\": \"6854167\",\n",
    "      \"data\": [\n",
    "        {\n",
    "          \"name\": \"Neel Saraiya\",\n",
    "          \"phone\": \"+16477162524\",\n",
    "          \"email\": \"realtorneels@gmail.com\",\n",
    "          \"custom_formdata\": {},\n",
    "          \"choice\": {\n",
    "            \"id\": \"SID6854167_C_13\",\n",
    "            \"ticket_type_id\": \"6854167\",\n",
    "            \"name\": \"C13\",\n",
    "            \"type\": \"seat\",\n",
    "            \"data\": {\n",
    "              \"seatColor\": \"#B8651B\"\n",
    "            },\n",
    "            \"status\": \"available\",\n",
    "            \"seat_id\": \"SID6854167_C_13\"\n",
    "          }\n",
    "        },\n",
    "        {\n",
    "          \"name\": \"Neel Saraiya\",\n",
    "          \"phone\": \"+16477162524\",\n",
    "          \"email\": \"realtorneels@gmail.com\",\n",
    "          \"custom_formdata\": {},\n",
    "          \"choice\": {\n",
    "            \"id\": \"SID6854167_C_14\",\n",
    "            \"ticket_type_id\": \"6854167\",\n",
    "            \"name\": \"C14\",\n",
    "            \"type\": \"seat\",\n",
    "            \"data\": {\n",
    "              \"seatColor\": \"#B8651B\"\n",
    "            },\n",
    "            \"status\": \"available\",\n",
    "            \"seat_id\": \"SID6854167_C_14\"\n",
    "          }\n",
    "        }\n",
    "      ],\n",
    "      \"ticket_price\": \"69.70\"\n",
    "    }\n",
    "  ],\n",
    "  \"utm_tracking_list\": []\n",
    "}\n",
    "\n",
    "\n",
    "https://allevents.in/manage/tickets/cash/payments/init-payment.php\n",
    "ticket_data\t'{\"ticket_order_ids\":[\"6672595\",\"6672596\"],\"event_id\":\"80003470188091\",\"coupon_code\":\"\",\"validate\":0,\"platform\":\"\",\"billing_state_code\":\"24\"}'\n",
    "\n",
    "\n",
    "https://allevents.in/manage/tickets/cash/payments/bypass-payment.php?txn_id=d71434b81a1135f557ed&platform="
   ]
  },
  {
   "cell_type": "code",
   "execution_count": 16,
   "metadata": {},
   "outputs": [],
   "source": [
    "import requests\n",
    "import json\n",
    "import re"
   ]
  },
  {
   "cell_type": "code",
   "execution_count": 3,
   "metadata": {},
   "outputs": [],
   "source": [
    "file_name = input(\"Enter file name\")"
   ]
  },
  {
   "cell_type": "code",
   "execution_count": 194,
   "metadata": {},
   "outputs": [],
   "source": [
    "with open(file_name,'r') as file:\n",
    "    json_data = file.read()\n",
    "\n",
    "parsed_json = json.loads(json_data)\n",
    "seatmap_ids = {}\n",
    "for i in parsed_json['seatmap']:\n",
    "        seatmap_ids[i['name']] = [i['id'],i['ticket_type_id'],i['name'],i['data']['seatColor']]\n",
    "def get_data(seat):      \n",
    "      return seatmap_ids[seat]"
   ]
  },
  {
   "cell_type": "code",
   "execution_count": 292,
   "metadata": {},
   "outputs": [
    {
     "name": "stdout",
     "output_type": "stream",
     "text": [
      "['F5', 'F6', 'F7']\n"
     ]
    }
   ],
   "source": [
    "# event_id = input(\"enter event id\")\n",
    "event_id = \"80002992165626\"\n",
    "payment_mode = 'cash'\n",
    "ticket_count = int(input('Enter ticket count'))\n",
    "tickets = input(\"Enter seats\")\n",
    "tickets = tickets.split(',')\n",
    "print(tickets)\n",
    "name = input(\"Enter name\")\n",
    "phone = input(\"Enter phone\")\n",
    "phone = re.sub(r\"\\D\", \"\", phone)\n",
    "phone='+'+phone\n",
    "email = input(\"Enter email\")"
   ]
  },
  {
   "cell_type": "code",
   "execution_count": 294,
   "metadata": {},
   "outputs": [
    {
     "name": "stdout",
     "output_type": "stream",
     "text": [
      "+16477076780 Info@millennial-events.com\n"
     ]
    }
   ],
   "source": [
    "print(phone,email)"
   ]
  },
  {
   "cell_type": "code",
   "execution_count": 295,
   "metadata": {},
   "outputs": [
    {
     "name": "stdout",
     "output_type": "stream",
     "text": [
      "57.70\n"
     ]
    }
   ],
   "source": [
    "ticket_type_id = get_data(tickets[0])[1]\n",
    "def get_price(ticket_type_id):\n",
    "    url = 'https://allevents.in/api/index.php/tickets/web/get_ticket_types'\n",
    "    headers = {\n",
    "        'Origin': 'https://allevents.in',\n",
    "        'Referer': 'https://allevents.in/manage/tickets/book.php?mode=issuetickets&event_id='+event_id,\n",
    "        'Cookie': 'PHPSESSID=qd05b2nrf4j263j2bhmtvnvupn; fblogin-remind=true; fblike-remind=true; _visit=94; current_lat=23.0276; current_long=72.5871; _platform=; __stripe_mid=3b7f4439-2c86-4206-bbf9-196761d06698ac8bdd; _ref=organizer-new; _aff=u1gjbz; autologin=0; user_city_query=ahmedabad; user_city=Ahmedabad; FCNEC=%5B%5B%22AKsRol8yQNpXkraiCiG76xp91xRuoZoejkDxIvUgEk14w9SJ0wmMgFDec_xNH-wL19N-g47BLtcHldATKkjybI-Y-dlrq7XYbOBV64SxOzo1t4vO63LOWmOXGlrDTnO1s7k7rDJx1riiqhHgezWA_0HE7XBDkfot5g%3D%3D%22%5D%2Cnull%2C%5B%5D%5D',\n",
    "        'Sec-Fetch-Dest': 'empty',\n",
    "        'Sec-Fetch-Mode': 'cors',\n",
    "        'Sec-Fetch-Site': 'same-origin',    \n",
    "    }\n",
    "    data = {\n",
    "        'event_id': event_id,\n",
    "        'include_disabled': 0\n",
    "    }\n",
    "\n",
    "    response = requests.post(url, headers=headers, json=data)\n",
    "    response = response.json()['data']\n",
    "    data = {}\n",
    "    for i in response:\n",
    "        data[i['id']] = i['price']\n",
    "    price = data[ticket_type_id]\n",
    "    return price\n",
    "price = get_price(ticket_type_id)\n",
    "print(price)"
   ]
  },
  {
   "cell_type": "code",
   "execution_count": 296,
   "metadata": {},
   "outputs": [],
   "source": [
    "# Reserve tickets\n",
    "if len(tickets) == ticket_count:    \n",
    "    registration = {\n",
    "        'event_id':event_id,\n",
    "        'payment_mode': 'cash',\n",
    "        'registrations':[\n",
    "            {\n",
    "                'ticket_type_id':ticket_type_id,\n",
    "                'data':[],\n",
    "                \"ticket_price\":price,\n",
    "            }\n",
    "        ],\n",
    "        \"utm_tracking_list\":[]\n",
    "    }\n",
    "    # Get reg data\n",
    "    for i in tickets:\n",
    "        reg_data = get_data(i)\n",
    "        reg_data = {\n",
    "                'name':name,\n",
    "                'phone':phone,\n",
    "                'email':email,\n",
    "                \"custom_formdata\": {},\n",
    "                \"choice\": {\n",
    "                    \"id\": reg_data[0],\n",
    "                    \"ticket_type_id\": reg_data[1],\n",
    "                    \"name\": reg_data[2],\n",
    "                    \"type\": \"seat\",\n",
    "                    \"data\": {\n",
    "                    \"seatColor\": reg_data[3]\n",
    "                    },\n",
    "                    \"status\": \"available\",\n",
    "                    \"seat_id\": reg_data[0]\n",
    "                }\n",
    "        }\n",
    "        registration['registrations'][0]['data'].append(reg_data)    \n",
    "    # Call the api\n",
    "    def reserve_tickets():\n",
    "        url = 'https://allevents.in/api/index.php/tickets/ae/reserve_tickets'\n",
    "        headers = {\n",
    "            'Origin': 'https://allevents.in',                    \n",
    "            'Referer': 'https://allevents.in/manage/tickets/book.php?mode=issuetickets&event_id=80003470188091',\n",
    "            'Cookie': 'PHPSESSID=qd05b2nrf4j263j2bhmtvnvupn; fblogin-remind=true; fblike-remind=true; _visit=94; current_lat=23.0276; current_long=72.5871; _platform=event-page-v1; __stripe_mid=3b7f4439-2c86-4206-bbf9-196761d06698ac8bdd; _ref=organizer-new; _aff=u1gjbz; autologin=0; user_city_query=ahmedabad; user_city=Ahmedabad; FCNEC=%5B%5B%22AKsRol8yQNpXkraiCiG76xp91xRuoZoejkDxIvUgEk14w9SJ0wmMgFDec_xNH-wL19N-g47BLtcHldATKkjybI-Y-dlrq7XYbOBV64SxOzo1t4vO63LOWmOXGlrDTnO1s7k7rDJx1riiqhHgezWA_0HE7XBDkfot5g%3D%3D%22%5D%2Cnull%2C%5B%5D%5D; _pgrf=404',\n",
    "            'Sec-Fetch-Dest': 'empty',\n",
    "            'Sec-Fetch-Mode': 'cors',\n",
    "            'Sec-Fetch-Site': 'same-origin',            \n",
    "        }\n",
    "        data = registration\n",
    "        response = requests.post(url, headers=headers, json=data)\n",
    "        return response.json()\n",
    "    registration_response = reserve_tickets()\n",
    "else:\n",
    "    print(\"Count does not match\")"
   ]
  },
  {
   "cell_type": "code",
   "execution_count": 297,
   "metadata": {},
   "outputs": [
    {
     "name": "stdout",
     "output_type": "stream",
     "text": [
      "{\n",
      "  \"error\": 0,\n",
      "  \"warning\": 0,\n",
      "  \"message\": \"\",\n",
      "  \"registrations\": [\n",
      "    {\n",
      "      \"ticket_type_id\": \"6326032\",\n",
      "      \"data\": [\n",
      "        {\n",
      "          \"name\": \"Kanjav Oza + 2\",\n",
      "          \"phone\": \"+16477076780\",\n",
      "          \"email\": \"Info@millennial-events.com\",\n",
      "          \"custom_formdata\": [],\n",
      "          \"choice\": {\n",
      "            \"id\": \"SID6326032_F_5\",\n",
      "            \"ticket_type_id\": \"6326032\",\n",
      "            \"name\": \"F5\",\n",
      "            \"type\": \"seat\",\n",
      "            \"data\": {\n",
      "              \"seatColor\": \"#1168c5\"\n",
      "            },\n",
      "            \"status\": \"available\",\n",
      "            \"seat_id\": \"SID6326032_F_5\"\n",
      "          },\n",
      "          \"ticket_type_id\": \"6326032\",\n",
      "          \"ticket_count\": 1,\n",
      "          \"ticket_type\": \"Yellow\",\n",
      "          \"ticket_category\": \"\",\n",
      "          \"ticket_price\": \"57.70\",\n",
      "          \"ticket_order_id\": \"6674452\",\n",
      "          \"mail_sent\": 0,\n",
      "          \"ticket_status\": \"Pending Payment\",\n",
      "          \"paid\": 0\n",
      "        },\n",
      "        {\n",
      "          \"name\": \"Kanjav Oza + 2\",\n",
      "          \"phone\": \"+16477076780\",\n",
      "          \"email\": \"Info@millennial-events.com\",\n",
      "          \"custom_formdata\": [],\n",
      "          \"choice\": {\n",
      "            \"id\": \"SID6326032_F_6\",\n",
      "            \"ticket_type_id\": \"6326032\",\n",
      "            \"name\": \"F6\",\n",
      "            \"type\": \"seat\",\n",
      "            \"data\": {\n",
      "              \"seatColor\": \"#1168c5\"\n",
      "            },\n",
      "            \"status\": \"available\",\n",
      "            \"seat_id\": \"SID6326032_F_6\"\n",
      "          },\n",
      "          \"ticket_type_id\": \"6326032\",\n",
      "          \"ticket_count\": 1,\n",
      "          \"ticket_type\": \"Yellow\",\n",
      "          \"ticket_category\": \"\",\n",
      "          \"ticket_price\": \"57.70\",\n",
      "          \"ticket_order_id\": \"6674453\",\n",
      "          \"mail_sent\": 0,\n",
      "          \"ticket_status\": \"Pending Payment\",\n",
      "          \"paid\": 0\n",
      "        },\n",
      "        {\n",
      "          \"name\": \"Kanjav Oza + 2\",\n",
      "          \"phone\": \"+16477076780\",\n",
      "          \"email\": \"Info@millennial-events.com\",\n",
      "          \"custom_formdata\": [],\n",
      "          \"choice\": {\n",
      "            \"id\": \"SID6326032_F_7\",\n",
      "            \"ticket_type_id\": \"6326032\",\n",
      "            \"name\": \"F7\",\n",
      "            \"type\": \"seat\",\n",
      "            \"data\": {\n",
      "              \"seatColor\": \"#1168c5\"\n",
      "            },\n",
      "            \"status\": \"available\",\n",
      "            \"seat_id\": \"SID6326032_F_7\"\n",
      "          },\n",
      "          \"ticket_type_id\": \"6326032\",\n",
      "          \"ticket_count\": 1,\n",
      "          \"ticket_type\": \"Yellow\",\n",
      "          \"ticket_category\": \"\",\n",
      "          \"ticket_price\": \"57.70\",\n",
      "          \"ticket_order_id\": \"6674454\",\n",
      "          \"mail_sent\": 0,\n",
      "          \"ticket_status\": \"Pending Payment\",\n",
      "          \"paid\": 0\n",
      "        }\n",
      "      ],\n",
      "      \"ticket_price\": \"57.70\"\n",
      "    }\n",
      "  ],\n",
      "  \"ticket_order_ids\": [\n",
      "    \"6674452\",\n",
      "    \"6674453\",\n",
      "    \"6674454\"\n",
      "  ],\n",
      "  \"payment_data\": {\n",
      "    \"payment_mode\": \"stripe-new\",\n",
      "    \"amount\": 173.10000000000002,\n",
      "    \"currency\": {\n",
      "      \"currency_symbols\": \"CA$\",\n",
      "      \"currency\": \"CAD\"\n",
      "    },\n",
      "    \"online\": 1\n",
      "  },\n",
      "  \"reserved_on\": 1685095421,\n",
      "  \"reserved_till\": 1685096621\n",
      "}\n"
     ]
    }
   ],
   "source": [
    "print(json.dumps(registration_response,indent=2))"
   ]
  },
  {
   "cell_type": "code",
   "execution_count": 298,
   "metadata": {},
   "outputs": [
    {
     "name": "stdout",
     "output_type": "stream",
     "text": [
      "['6674452', '6674453', '6674454']\n"
     ]
    }
   ],
   "source": [
    "print(registration_response['ticket_order_ids'])"
   ]
  },
  {
   "cell_type": "code",
   "execution_count": 299,
   "metadata": {},
   "outputs": [
    {
     "name": "stdout",
     "output_type": "stream",
     "text": [
      "\n",
      "{\"error\":0,\"message\":\"3 ticket(s) confirmed and notification sent to the buyer(s).\",\"data\":{\"status\":true,\"transaction_id\":\"ae-6470840071d55\"}}\n",
      "\n"
     ]
    }
   ],
   "source": [
    "# Mark as paid\n",
    "import requests\n",
    "\n",
    "url = \"https://allevents.in/api/index.php/tickets/ae/confirm_tickets\"\n",
    "payload = {\n",
    "    \"event_id\":event_id,\n",
    "    \"ticket_order_ids\":registration_response['ticket_order_ids']\n",
    "\n",
    "}\n",
    "headers = {\n",
    "  'User-Agent': 'Mozilla/5.0 (X11; Linux x86_64; rv:109.0) Gecko/20100101 Firefox/113.0',\n",
    "  'Accept': 'application/json, text/plain, */*',\n",
    "  'Accept-Language': 'en-US,en;q=0.5',\n",
    "  'Accept-Encoding': 'gzip, deflate, br',\n",
    "  'Content-Type': 'application/json;charset=utf-8',\n",
    "  'Origin': 'https://allevents.in',\n",
    "  'DNT': '1',\n",
    "  'Connection': 'keep-alive',\n",
    "  'Referer': 'https://allevents.in/manage/ticketing.php?event_id=80003470188091',\n",
    "  'Cookie': 'PHPSESSID=qd05b2nrf4j263j2bhmtvnvupn; fblogin-remind=true; fblike-remind=true; _visit=128; current_lat=23.0276; current_long=72.5871; _platform=; __stripe_mid=3b7f4439-2c86-4206-bbf9-196761d06698ac8bdd; _ref=manage-event-top; _aff=u1gjbz; autologin=0; user_city_query=ahmedabad; user_city=Ahmedabad; _pgrf=ticketing; FCNEC=%5B%5B%22AKsRol_6sIeG8lycVoYih2dWKuE-DVOUQ3hzH_nFJV5sxz_fq_ztcZEURcKuzDb3yaxP40SliSn03oaQVpzi0XewtHp5IOSsZCD5ec34TaRj1OVUIVZCz2d4yujHK1YxmE1uydn3lIlwz8CxgdjUSSFc6v4W8ozJoA%3D%3D%22%5D%2Cnull%2C%5B%5D%5D',\n",
    "  'Sec-Fetch-Dest': 'empty',\n",
    "  'Sec-Fetch-Mode': 'cors',\n",
    "  'Sec-Fetch-Site': 'same-origin',\n",
    "  'Pragma': 'no-cache',\n",
    "  'Cache-Control': 'no-cache'\n",
    "}\n",
    "\n",
    "response = requests.request(\"POST\", url, headers=headers, json=payload)\n",
    "\n",
    "print(response.text)"
   ]
  }
 ],
 "metadata": {
  "kernelspec": {
   "display_name": ".globalenv",
   "language": "python",
   "name": "python3"
  },
  "language_info": {
   "codemirror_mode": {
    "name": "ipython",
    "version": 3
   },
   "file_extension": ".py",
   "mimetype": "text/x-python",
   "name": "python",
   "nbconvert_exporter": "python",
   "pygments_lexer": "ipython3",
   "version": "3.10.6"
  },
  "orig_nbformat": 4
 },
 "nbformat": 4,
 "nbformat_minor": 2
}
